{
  "nbformat": 4,
  "nbformat_minor": 0,
  "metadata": {
    "colab": {
      "name": "wine.ipynb",
      "provenance": [],
      "authorship_tag": "ABX9TyPe0WXwoFZ4fQTAQC/ewO3B",
      "include_colab_link": true
    },
    "kernelspec": {
      "name": "python3",
      "display_name": "Python 3"
    }
  },
  "cells": [
    {
      "cell_type": "markdown",
      "metadata": {
        "id": "view-in-github",
        "colab_type": "text"
      },
      "source": [
        "<a href=\"https://colab.research.google.com/github/chindimaga/Learning-Content/blob/master/regression_wine.ipynb\" target=\"_parent\"><img src=\"https://colab.research.google.com/assets/colab-badge.svg\" alt=\"Open In Colab\"/></a>"
      ]
    },
    {
      "cell_type": "code",
      "metadata": {
        "id": "mQcJjkieEZl8",
        "colab_type": "code",
        "colab": {}
      },
      "source": [
        "# !wget \"https://archive.ics.uci.edu/ml/machine-learning-databases/wine-quality/winequality-red.csv\"\n",
        "# !wget \"https://archive.ics.uci.edu/ml/machine-learning-databases/wine-quality/winequality-white.csv\"\n",
        "# !wget \"https://www.sciencedirect.com/science/article/pii/S0167923609001377/pdfft?isDTMRedir=true&download=true\"\n",
        "# ## Link to paper that published this dataset :  https://reader.elsevier.com/reader/sd/pii/S0167923609001377?token=575E8254AB1294C5423422E33CCB3AF9634BF569E3DE21DEE2CB0B05EB613B307CC8F9DC64FCE91767615C7346131C9C\n"
      ],
      "execution_count": 0,
      "outputs": []
    },
    {
      "cell_type": "code",
      "metadata": {
        "id": "adXqwD4oGdUn",
        "colab_type": "code",
        "colab": {}
      },
      "source": [
        "import numpy as np\n",
        "import matplotlib.pyplot as plt\n",
        "import pandas as pd\n",
        "from matplotlib import style\n",
        "\n",
        "plt.ion()#for graphs to be dynamic\n",
        "style.use('ggplot')#for graphs to look cool"
      ],
      "execution_count": 0,
      "outputs": []
    },
    {
      "cell_type": "code",
      "metadata": {
        "id": "UJeRkvUcHlbz",
        "colab_type": "code",
        "colab": {}
      },
      "source": [
        "#Import dataset\n",
        "white_dataset = pd.read_csv('winequality-white.csv',header=0,sep=';')"
      ],
      "execution_count": 0,
      "outputs": []
    },
    {
      "cell_type": "code",
      "metadata": {
        "id": "qyPytPaJIhbX",
        "colab_type": "code",
        "colab": {}
      },
      "source": [
        "input_data = white_dataset.iloc[:,:-1]"
      ],
      "execution_count": 0,
      "outputs": []
    },
    {
      "cell_type": "code",
      "metadata": {
        "id": "lcJ25he_JnIf",
        "colab_type": "code",
        "colab": {}
      },
      "source": [
        "output_data = white_dataset.iloc[:,-1]"
      ],
      "execution_count": 0,
      "outputs": []
    },
    {
      "cell_type": "code",
      "metadata": {
        "id": "V_zs1Sk-J9IL",
        "colab_type": "code",
        "colab": {}
      },
      "source": [
        "X=np.array(input_data)\n",
        "Y=np.array(output_data)"
      ],
      "execution_count": 0,
      "outputs": []
    },
    {
      "cell_type": "code",
      "metadata": {
        "id": "FcbeumuOKePg",
        "colab_type": "code",
        "colab": {}
      },
      "source": [
        "Y=Y.reshape(-1,1)# this is important.. may be sourse of error"
      ],
      "execution_count": 0,
      "outputs": []
    },
    {
      "cell_type": "code",
      "metadata": {
        "id": "hFKMQWedKu9T",
        "colab_type": "code",
        "colab": {
          "base_uri": "https://localhost:8080/",
          "height": 34
        },
        "outputId": "0f7d2b35-508b-4c18-9e30-97b4fce30dc7"
      },
      "source": [
        "Y.shape"
      ],
      "execution_count": 7,
      "outputs": [
        {
          "output_type": "execute_result",
          "data": {
            "text/plain": [
              "(4898, 1)"
            ]
          },
          "metadata": {
            "tags": []
          },
          "execution_count": 7
        }
      ]
    },
    {
      "cell_type": "code",
      "metadata": {
        "id": "1x4sedkJKxSd",
        "colab_type": "code",
        "colab": {
          "base_uri": "https://localhost:8080/",
          "height": 136
        },
        "outputId": "e2f81b58-587f-4a57-bcbe-64209feb8626"
      },
      "source": [
        "Y"
      ],
      "execution_count": 8,
      "outputs": [
        {
          "output_type": "execute_result",
          "data": {
            "text/plain": [
              "array([[6],\n",
              "       [6],\n",
              "       [6],\n",
              "       ...,\n",
              "       [6],\n",
              "       [7],\n",
              "       [6]])"
            ]
          },
          "metadata": {
            "tags": []
          },
          "execution_count": 8
        }
      ]
    },
    {
      "cell_type": "code",
      "metadata": {
        "id": "goNer40lK8y4",
        "colab_type": "code",
        "colab": {
          "base_uri": "https://localhost:8080/",
          "height": 333
        },
        "outputId": "5745c26f-9661-4b98-f4c2-86021c7df1e4"
      },
      "source": [
        "plt.hist(Y,edgecolor='black')"
      ],
      "execution_count": 9,
      "outputs": [
        {
          "output_type": "execute_result",
          "data": {
            "text/plain": [
              "(array([  20.,  163.,    0., 1457.,    0., 2198.,  880.,    0.,  175.,\n",
              "           5.]),\n",
              " array([3. , 3.6, 4.2, 4.8, 5.4, 6. , 6.6, 7.2, 7.8, 8.4, 9. ]),\n",
              " <a list of 10 Patch objects>)"
            ]
          },
          "metadata": {
            "tags": []
          },
          "execution_count": 9
        },
        {
          "output_type": "display_data",
          "data": {
            "image/png": "[encoded data removed]",
            "text/plain": [
              "<Figure size 432x288 with 1 Axes>"
            ]
          },
          "metadata": {
            "tags": []
          }
        }
      ]
    },
    {
      "cell_type": "code",
      "metadata": {
        "id": "lSsIrkUbMaek",
        "colab_type": "code",
        "colab": {
          "base_uri": "https://localhost:8080/",
          "height": 68
        },
        "outputId": "12a360fd-560a-4dc4-d3c9-d36c051cc68b"
      },
      "source": [
        "mu = np.mean(X,axis=0)\n",
        "print(mu)"
      ],
      "execution_count": 10,
      "outputs": [
        {
          "output_type": "stream",
          "text": [
            "[6.85478767e+00 2.78241119e-01 3.34191507e-01 6.39141486e+00\n",
            " 4.57723561e-02 3.53080849e+01 1.38360657e+02 9.94027376e-01\n",
            " 3.18826664e+00 4.89846876e-01 1.05142670e+01]\n"
          ],
          "name": "stdout"
        }
      ]
    },
    {
      "cell_type": "code",
      "metadata": {
        "id": "zA7sR911NONr",
        "colab_type": "code",
        "colab": {
          "base_uri": "https://localhost:8080/",
          "height": 34
        },
        "outputId": "bd8a9d74-d70c-4de5-a485-b98342049d70"
      },
      "source": [
        "mu.shape"
      ],
      "execution_count": 11,
      "outputs": [
        {
          "output_type": "execute_result",
          "data": {
            "text/plain": [
              "(11,)"
            ]
          },
          "metadata": {
            "tags": []
          },
          "execution_count": 11
        }
      ]
    },
    {
      "cell_type": "code",
      "metadata": {
        "id": "A2MuvWnfNSfx",
        "colab_type": "code",
        "colab": {}
      },
      "source": [
        "mu=mu.reshape(1,11)"
      ],
      "execution_count": 0,
      "outputs": []
    },
    {
      "cell_type": "code",
      "metadata": {
        "id": "jzWXkCY4NWZL",
        "colab_type": "code",
        "colab": {}
      },
      "source": [
        "X=X-mu"
      ],
      "execution_count": 0,
      "outputs": []
    },
    {
      "cell_type": "code",
      "metadata": {
        "id": "ON77vty6Nb7v",
        "colab_type": "code",
        "colab": {
          "base_uri": "https://localhost:8080/",
          "height": 34
        },
        "outputId": "8ab12418-8193-427b-9717-2d72bdbc3f71"
      },
      "source": [
        "X.shape"
      ],
      "execution_count": 14,
      "outputs": [
        {
          "output_type": "execute_result",
          "data": {
            "text/plain": [
              "(4898, 11)"
            ]
          },
          "metadata": {
            "tags": []
          },
          "execution_count": 14
        }
      ]
    },
    {
      "cell_type": "code",
      "metadata": {
        "id": "be8XZ2o3NogJ",
        "colab_type": "code",
        "colab": {
          "base_uri": "https://localhost:8080/",
          "height": 238
        },
        "outputId": "bf74f40a-f7b5-4c2c-ecf2-a999ff2f4cbe"
      },
      "source": [
        "X"
      ],
      "execution_count": 15,
      "outputs": [
        {
          "output_type": "execute_result",
          "data": {
            "text/plain": [
              "array([[ 1.45212332e-01, -8.24111882e-03,  2.58084933e-02, ...,\n",
              "        -1.88266639e-01, -3.98468763e-02, -1.71426705e+00],\n",
              "       [-5.54787668e-01,  2.17588812e-02,  5.80849326e-03, ...,\n",
              "         1.11733361e-01,  1.53123724e-04, -1.01426705e+00],\n",
              "       [ 1.24521233e+00,  1.75888118e-03,  6.58084933e-02, ...,\n",
              "         7.17333606e-02, -4.98468763e-02, -4.14267048e-01],\n",
              "       ...,\n",
              "       [-3.54787668e-01, -3.82411188e-02, -1.44191507e-01, ...,\n",
              "        -1.98266639e-01, -2.98468763e-02, -1.11426705e+00],\n",
              "       [-1.35478767e+00,  1.17588812e-02, -3.41915067e-02, ...,\n",
              "         1.51733361e-01, -1.09846876e-01,  2.28573295e+00],\n",
              "       [-8.54787668e-01, -6.82411188e-02,  4.58084933e-02, ...,\n",
              "         7.17333606e-02, -1.69846876e-01,  1.28573295e+00]])"
            ]
          },
          "metadata": {
            "tags": []
          },
          "execution_count": 15
        }
      ]
    },
    {
      "cell_type": "code",
      "metadata": {
        "id": "scfWfXLSOEQv",
        "colab_type": "code",
        "colab": {}
      },
      "source": [
        "X = X/np.std(X,axis=0)"
      ],
      "execution_count": 0,
      "outputs": []
    },
    {
      "cell_type": "code",
      "metadata": {
        "id": "hOuRTmltObvg",
        "colab_type": "code",
        "colab": {}
      },
      "source": [
        "def split_dataset(x,y,fraction=0.5):\n",
        "  xtrain=[]\n",
        "  ytrain=[]\n",
        "  xtest=[]\n",
        "  ytest=[]\n",
        "  testlen=int(fraction*x.shape[0])\n",
        "  randomindex = np.random.randint(0,X.shape[0]-testlen)\n",
        "  xtest = x[randomindex:randomindex+testlen]\n",
        "  ytest = y[randomindex:randomindex+testlen]\n",
        "  xtrain = np.concatenate((x[:randomindex,:],x[randomindex+testlen:,:]))\n",
        "  ytrain = np.concatenate((y[:randomindex,0],y[randomindex+testlen:,0]))\n",
        "  return xtrain,ytrain,xtest,ytest"
      ],
      "execution_count": 0,
      "outputs": []
    },
    {
      "cell_type": "code",
      "metadata": {
        "id": "_cDyY-K7QuW3",
        "colab_type": "code",
        "colab": {}
      },
      "source": [
        "X_train,Y_train,X_test,Y_test=split_dataset(X,Y,0.3)"
      ],
      "execution_count": 0,
      "outputs": []
    },
    {
      "cell_type": "code",
      "metadata": {
        "id": "ep1yJtOUsNVN",
        "colab_type": "code",
        "colab": {
          "base_uri": "https://localhost:8080/",
          "height": 85
        },
        "outputId": "7bba6050-4cc6-44f7-ea36-2abd62827211"
      },
      "source": [
        "print(X_train.shape)\n",
        "Y_train=Y_train.reshape(-1,1)\n",
        "print(Y_train.shape)\n",
        "print(X_test.shape)\n",
        "print(Y_test.shape)"
      ],
      "execution_count": 19,
      "outputs": [
        {
          "output_type": "stream",
          "text": [
            "(3429, 11)\n",
            "(3429, 1)\n",
            "(1469, 11)\n",
            "(1469, 1)\n"
          ],
          "name": "stdout"
        }
      ]
    },
    {
      "cell_type": "code",
      "metadata": {
        "id": "W1orXtHYQ5o5",
        "colab_type": "code",
        "colab": {}
      },
      "source": [
        "class linear_regresser():\n",
        "  #initialize\n",
        "  def __init__(self,inputsize,epochs=20,learning_rate=0.1,batch_size=256):\n",
        "    self.lr = learning_rate\n",
        "    self.batch_size = batch_size\n",
        "    self.inputsize = inputsize\n",
        "    self.epochs = epochs\n",
        "    self.weights = np.random.randn(self.inputsize,1)\n",
        "    self.bias = 0.0\n",
        "  #forward\n",
        "  def forward(self,x,y):\n",
        "    outputs=np.dot(x,self.weights)+self.bias\n",
        "    self.error=outputs-y\n",
        "    return outputs\n",
        "  #mse_loss\n",
        "  def mse_error(self):\n",
        "    return np.mean(np.square(self.error))\n",
        "\n",
        "  #compute_gradient\n",
        "  def compute_gradient(self,x):\n",
        "    self.w_gradients = (np.dot(np.transpose(x),self.error)/x.shape[0]).reshape(-1,1)\n",
        "    self.bias_gradient = np.mean(self.error)\n",
        "  #update\n",
        "  def update(self):\n",
        "    self.weights = self.weights - self.lr * self.w_gradients\n",
        "    self.bias -= self.lr*(self.bias_gradient)\n",
        "  #shuffel\n",
        "  def shuffle(self,x,y):\n",
        "        length = len(y)\n",
        "        indices = np.arange(length)\n",
        "        np.random.shuffle(indices)\n",
        "        return x[indices],y[indices]\n",
        "  #train\n",
        "  def train(self,x,y):\n",
        "    for e in range(self.epochs):\n",
        "      losses = []\n",
        "      #shuffel\n",
        "      x2,y2=self.shuffle(x,y)\n",
        "      for st_in in range(0,len(x),self.batch_size):\n",
        "        en_in = st_in + self.batch_size\n",
        "        x_batch = x2[st_in:en_in]\n",
        "        y_batch = y2[st_in:en_in]\n",
        "        pred = self.forward(x_batch,y_batch)\n",
        "        losses.append(self.mse_error())\n",
        "        self.compute_gradient(x_batch)\n",
        "        self.update()\n",
        "      print(\"epoch: \",e)\n",
        "      print(\"loss:\",np.mean(losses))  \n",
        "  #test\n",
        "  def test(self,x,y,tau):\n",
        "    #tau decides the error allowed\n",
        "    losses=[]\n",
        "    correct=0\n",
        "    for st_in in range(0,len(y),self.batch_size):\n",
        "      end_in = min(len(y),st_in+self.batch_size)\n",
        "      x_batch = x[st_in:end_in]\n",
        "      y_batch = y[st_in:end_in]\n",
        "      pred = self.forward(x_batch,y_batch)\n",
        "      losses.append(self.mse_error())  \n",
        "      for err in self.error:\n",
        "        if abs(err)<=tau:\n",
        "          correct+=1\n",
        "    print(\"Mean Squared Error :\",np.mean(losses))\n",
        "    print(\"Accuracy over test set :\",round(correct/len(y),3))"
      ],
      "execution_count": 0,
      "outputs": []
    },
    {
      "cell_type": "code",
      "metadata": {
        "id": "6igV_jYuWp53",
        "colab_type": "code",
        "colab": {}
      },
      "source": [
        "model1=linear_regresser(11)"
      ],
      "execution_count": 0,
      "outputs": []
    },
    {
      "cell_type": "code",
      "metadata": {
        "id": "QR3VzpexWyW1",
        "colab_type": "code",
        "colab": {
          "base_uri": "https://localhost:8080/",
          "height": 697
        },
        "outputId": "319660e4-9e96-4d0e-a7ee-6a471ecf50da"
      },
      "source": [
        "model1.train(X_train,Y_train)"
      ],
      "execution_count": 22,
      "outputs": [
        {
          "output_type": "stream",
          "text": [
            "epoch:  0\n",
            "loss: 15.936564706155506\n",
            "epoch:  1\n",
            "loss: 1.4166658868753785\n",
            "epoch:  2\n",
            "loss: 0.7174457753993716\n",
            "epoch:  3\n",
            "loss: 0.641519390733902\n",
            "epoch:  4\n",
            "loss: 0.6208648831278369\n",
            "epoch:  5\n",
            "loss: 0.6156548480098475\n",
            "epoch:  6\n",
            "loss: 0.6229598916858408\n",
            "epoch:  7\n",
            "loss: 0.6159098670707133\n",
            "epoch:  8\n",
            "loss: 0.610255402231796\n",
            "epoch:  9\n",
            "loss: 0.6075838686911931\n",
            "epoch:  10\n",
            "loss: 0.6103777404458798\n",
            "epoch:  11\n",
            "loss: 0.6122691466419096\n",
            "epoch:  12\n",
            "loss: 0.6100094281131752\n",
            "epoch:  13\n",
            "loss: 0.6012375104157474\n",
            "epoch:  14\n",
            "loss: 0.6171794865701148\n",
            "epoch:  15\n",
            "loss: 0.5978112504257417\n",
            "epoch:  16\n",
            "loss: 0.6090939987944786\n",
            "epoch:  17\n",
            "loss: 0.5992036011220316\n",
            "epoch:  18\n",
            "loss: 0.6121789971650891\n",
            "epoch:  19\n",
            "loss: 0.6075384142583656\n"
          ],
          "name": "stdout"
        }
      ]
    },
    {
      "cell_type": "code",
      "metadata": {
        "id": "_tvK-QfzXC-L",
        "colab_type": "code",
        "colab": {
          "base_uri": "https://localhost:8080/",
          "height": 51
        },
        "outputId": "d7bf8478-d98d-4ae1-990b-b3d8b96d636b"
      },
      "source": [
        "model1.test(X_test,Y_test,1)"
      ],
      "execution_count": 23,
      "outputs": [
        {
          "output_type": "stream",
          "text": [
            "Mean Squared Error : 0.5410995028018554\n",
            "Accuracy over test set : 0.851\n"
          ],
          "name": "stdout"
        }
      ]
    },
    {
      "cell_type": "code",
      "metadata": {
        "id": "IyiII_sAXEbW",
        "colab_type": "code",
        "colab": {}
      },
      "source": [
        ""
      ],
      "execution_count": 0,
      "outputs": []
    }
  ]
}